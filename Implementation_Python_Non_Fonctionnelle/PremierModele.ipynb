{
 "cells": [
  {
   "cell_type": "code",
   "execution_count": 1,
   "id": "4ea5899a",
   "metadata": {},
   "outputs": [],
   "source": [
    "#PENSEZ BIEN A EXECUTER TOUTES LES CELLULES DANS L'ORDRE DE LECTURE POUR INITIALISER LE TOUT\n",
    "from cpmpy import *\n",
    "import numpy as np"
   ]
  },
  {
   "cell_type": "code",
   "execution_count": 13,
   "id": "ea6b1cd0",
   "metadata": {},
   "outputs": [],
   "source": [
    "#Donnees ici, elles évolueront dans un premier temps ici pour les tests\n",
    "#Dans un premier temps sans flow et concurrence\n",
    "\n",
    "#Comp_OS = np.array([\"windows\",\"windows\",\"windows\",\"linux\",\"linux\"])\n",
    "#Comp_Mem = np.array([4,8,4,4,8])\n",
    "#Comp_Proc = np.array([2,2,2,4,2])\n",
    "#Comp_Loc = np.array([\"France\",\"France\",\"France\",\"Suisse\"])\n",
    "\n",
    "#VM_OS = np.array([\"windows\",\"windows\",\"windows\",\"windows\",\"windows\",\"windows\",\"windows\",\"windows\",\"linux\",\"linux\"])\n",
    "#VM_Mem = np.array([16,8,8,8,8,8,8,8,16,32])\n",
    "#VM_Proc = np.array([4,4,4,4,8,2,2,8,8])\n",
    "#VM_Loc = np.array([\"France\",\"France\",\"France\",\"Suisse\",\"Suisse\",\"Etats-Unis\",\"Etats-Unis\",\"Etats-Unis\",\"Etats-Unis\",\"Italie\"])\n",
    "#VM_Cout = np.array([100,50,60,30,40,78,32,40,100,120])\n",
    "#VM_Prov = np.array([\"Amazon\",\"Microsoft\",\"Amazon\",\"Microsoft\",\"Amazon\",\"Microsoft\",\"Amazon\",\"Microsoft\",\"Amazon\",\"Microsoft\"])\n",
    "\n",
    "\n",
    "#VM_OS= cpm_array(VM_OS)\n",
    "#VM_Loc= cpm_array(VM_Loc)\n"
   ]
  },
  {
   "cell_type": "code",
   "execution_count": 14,
   "id": "4cfde773",
   "metadata": {},
   "outputs": [],
   "source": [
    "#Donnees ici, elles évolueront dans un premier temps ici pour les tests\n",
    "#Dans un premier temps sans flow et concurrence\n",
    "\n",
    "Comp_OS = [\"windows\",\"windows\",\"windows\",\"linux\",\"linux\"]\n",
    "Comp_Mem = [4,8,4,4,8]\n",
    "Comp_Proc = [2,2,2,4,2]\n",
    "Comp_Loc = [\"France\",\"France\",\"France\",\"Suisse\"]\n",
    "\n",
    "VM_OS = [\"windows\",\"windows\",\"windows\",\"windows\",\"windows\",\"windows\",\"windows\",\"windows\",\"linux\",\"linux\"]\n",
    "VM_Mem = [16,8,8,8,8,8,8,8,16,32]\n",
    "VM_Proc = [4,4,4,4,8,2,2,8,8]\n",
    "VM_Loc = [\"France\",\"France\",\"France\",\"Suisse\",\"Suisse\",\"Etats-Unis\",\"Etats-Unis\",\"Etats-Unis\",\"Etats-Unis\",\"Italie\"]\n",
    "VM_Cout = [100,50,60,30,40,78,32,40,100,120]\n",
    "VM_Prov = [\"Amazon\",\"Microsoft\",\"Amazon\",\"Microsoft\",\"Amazon\",\"Microsoft\",\"Amazon\",\"Microsoft\",\"Amazon\",\"Microsoft\"]\n",
    "\n",
    "\n",
    "VM_OS= cpm_array(VM_OS)\n",
    "VM_Loc= cpm_array(VM_Loc)"
   ]
  },
  {
   "cell_type": "code",
   "execution_count": 17,
   "id": "c305faed",
   "metadata": {},
   "outputs": [],
   "source": [
    "#Variables\n",
    "\n",
    "#variable X pour sens X[i]=v <=> le composant i+1 est attribué à la machine v\n",
    "X = intvar(0,len(VM_OS), shape = len(Comp_OS), name=\"X\")\n",
    "\n",
    "#variable Y pour sens Y[v]=p <=> Il y a p composant sur la machine v+1\n",
    "Y = intvar(0,len(Comp_OS), shape = len(VM_OS), name=\"Y\")"
   ]
  },
  {
   "cell_type": "code",
   "execution_count": 19,
   "id": "7e7dc691",
   "metadata": {},
   "outputs": [
    {
     "ename": "AttributeError",
     "evalue": "'str' object has no attribute 'is_bool'",
     "output_type": "error",
     "traceback": [
      "\u001b[0;31m---------------------------------------------------------------------------\u001b[0m",
      "\u001b[0;31mAttributeError\u001b[0m                            Traceback (most recent call last)",
      "Input \u001b[0;32mIn [19]\u001b[0m, in \u001b[0;36m<cell line: 24>\u001b[0;34m()\u001b[0m\n\u001b[1;32m     18\u001b[0m model \u001b[38;5;241m+\u001b[39m\u001b[38;5;241m=\u001b[39m [\u001b[38;5;28msum\u001b[39m([(X[i]\u001b[38;5;241m==\u001b[39mv) \u001b[38;5;241m*\u001b[39m Comp_Mem[i]] \u001b[38;5;28;01mfor\u001b[39;00m i \u001b[38;5;129;01min\u001b[39;00m \u001b[38;5;28mrange\u001b[39m(\u001b[38;5;241m0\u001b[39m, \u001b[38;5;28mlen\u001b[39m(X))) \u001b[38;5;241m<\u001b[39m\u001b[38;5;241m=\u001b[39m VM_Mem[v] \u001b[38;5;28;01mfor\u001b[39;00m v \u001b[38;5;129;01min\u001b[39;00m \u001b[38;5;28mrange\u001b[39m(\u001b[38;5;241m0\u001b[39m,\u001b[38;5;28mlen\u001b[39m(VM_Mem))]\n\u001b[1;32m     20\u001b[0m model \u001b[38;5;241m+\u001b[39m\u001b[38;5;241m=\u001b[39m [(Y[v] \u001b[38;5;241m>\u001b[39m \u001b[38;5;241m0\u001b[39m) \u001b[38;5;241m*\u001b[39m VM_Cout[v] \u001b[38;5;28;01mfor\u001b[39;00m v \u001b[38;5;129;01min\u001b[39;00m \u001b[38;5;28mrange\u001b[39m(\u001b[38;5;241m0\u001b[39m,\u001b[38;5;28mlen\u001b[39m(VM_Cout))]\n\u001b[0;32m---> 24\u001b[0m \u001b[43mmodel\u001b[49m\u001b[38;5;241;43m.\u001b[39;49m\u001b[43msolve\u001b[49m\u001b[43m(\u001b[49m\u001b[43m)\u001b[49m\n",
      "File \u001b[0;32m~/.local/lib/python3.8/site-packages/cpmpy/model.py:154\u001b[0m, in \u001b[0;36mModel.solve\u001b[0;34m(self, solver, time_limit)\u001b[0m\n\u001b[1;32m    141\u001b[0m \u001b[38;5;28;01mdef\u001b[39;00m \u001b[38;5;21msolve\u001b[39m(\u001b[38;5;28mself\u001b[39m, solver\u001b[38;5;241m=\u001b[39m\u001b[38;5;28;01mNone\u001b[39;00m, time_limit\u001b[38;5;241m=\u001b[39m\u001b[38;5;28;01mNone\u001b[39;00m):\n\u001b[1;32m    142\u001b[0m     \u001b[38;5;124;03m\"\"\" Send the model to a solver and get the result\u001b[39;00m\n\u001b[1;32m    143\u001b[0m \n\u001b[1;32m    144\u001b[0m \u001b[38;5;124;03m    :param solver: name of a solver to use. Run SolverLookup.solvernames() to find out the valid solver names on your system. (default: None = first available solver)\u001b[39;00m\n\u001b[0;32m   (...)\u001b[0m\n\u001b[1;32m    152\u001b[0m \u001b[38;5;124;03m        - False     if no solution is found\u001b[39;00m\n\u001b[1;32m    153\u001b[0m \u001b[38;5;124;03m    \"\"\"\u001b[39;00m\n\u001b[0;32m--> 154\u001b[0m     s \u001b[38;5;241m=\u001b[39m \u001b[38;5;28;43mself\u001b[39;49m\u001b[38;5;241;43m.\u001b[39;49m\u001b[43m_create_solver\u001b[49m\u001b[43m(\u001b[49m\u001b[43msolver\u001b[49m\u001b[43m)\u001b[49m\n\u001b[1;32m    155\u001b[0m     \u001b[38;5;66;03m# call solver\u001b[39;00m\n\u001b[1;32m    156\u001b[0m     ret \u001b[38;5;241m=\u001b[39m s\u001b[38;5;241m.\u001b[39msolve(time_limit\u001b[38;5;241m=\u001b[39mtime_limit)\n",
      "File \u001b[0;32m~/.local/lib/python3.8/site-packages/cpmpy/model.py:136\u001b[0m, in \u001b[0;36mModel._create_solver\u001b[0;34m(self, solver)\u001b[0m\n\u001b[1;32m    133\u001b[0m     s \u001b[38;5;241m=\u001b[39m solver_class(\u001b[38;5;28mself\u001b[39m, subsolver\u001b[38;5;241m=\u001b[39msolver)\n\u001b[1;32m    134\u001b[0m \u001b[38;5;28;01melse\u001b[39;00m:\n\u001b[1;32m    135\u001b[0m     \u001b[38;5;66;03m# no subsolver\u001b[39;00m\n\u001b[0;32m--> 136\u001b[0m     s \u001b[38;5;241m=\u001b[39m \u001b[43msolver_class\u001b[49m\u001b[43m(\u001b[49m\u001b[38;5;28;43mself\u001b[39;49m\u001b[43m)\u001b[49m\n\u001b[1;32m    138\u001b[0m \u001b[38;5;28;01mreturn\u001b[39;00m s\n",
      "File \u001b[0;32m~/.local/lib/python3.8/site-packages/cpmpy/solvers/ortools.py:91\u001b[0m, in \u001b[0;36mCPM_ortools.__init__\u001b[0;34m(self, cpm_model, subsolver)\u001b[0m\n\u001b[1;32m     88\u001b[0m \u001b[38;5;28mself\u001b[39m\u001b[38;5;241m.\u001b[39massumption_dict \u001b[38;5;241m=\u001b[39m \u001b[38;5;28;01mNone\u001b[39;00m\n\u001b[1;32m     90\u001b[0m \u001b[38;5;66;03m# initialise everything else and post the constraints/objective\u001b[39;00m\n\u001b[0;32m---> 91\u001b[0m \u001b[38;5;28;43msuper\u001b[39;49m\u001b[43m(\u001b[49m\u001b[43m)\u001b[49m\u001b[38;5;241;43m.\u001b[39;49m\u001b[38;5;21;43m__init__\u001b[39;49m\u001b[43m(\u001b[49m\u001b[43mname\u001b[49m\u001b[38;5;241;43m=\u001b[39;49m\u001b[38;5;124;43m\"\u001b[39;49m\u001b[38;5;124;43mortools\u001b[39;49m\u001b[38;5;124;43m\"\u001b[39;49m\u001b[43m,\u001b[49m\u001b[43m \u001b[49m\u001b[43mcpm_model\u001b[49m\u001b[38;5;241;43m=\u001b[39;49m\u001b[43mcpm_model\u001b[49m\u001b[43m)\u001b[49m\n",
      "File \u001b[0;32m~/.local/lib/python3.8/site-packages/cpmpy/solvers/solver_interface.py:83\u001b[0m, in \u001b[0;36mSolverInterface.__init__\u001b[0;34m(self, name, cpm_model, subsolver)\u001b[0m\n\u001b[1;32m     80\u001b[0m \u001b[38;5;66;03m# rest uses own API\u001b[39;00m\n\u001b[1;32m     81\u001b[0m \u001b[38;5;28;01mif\u001b[39;00m cpm_model \u001b[38;5;129;01mis\u001b[39;00m \u001b[38;5;129;01mnot\u001b[39;00m \u001b[38;5;28;01mNone\u001b[39;00m:\n\u001b[1;32m     82\u001b[0m     \u001b[38;5;66;03m# post all constraints at once, implemented in __add__()\u001b[39;00m\n\u001b[0;32m---> 83\u001b[0m     \u001b[38;5;28mself\u001b[39m \u001b[38;5;241m+\u001b[39m\u001b[38;5;241m=\u001b[39m cpm_model\u001b[38;5;241m.\u001b[39mconstraints\n\u001b[1;32m     85\u001b[0m     \u001b[38;5;66;03m# post objective\u001b[39;00m\n\u001b[1;32m     86\u001b[0m     \u001b[38;5;28;01mif\u001b[39;00m cpm_model\u001b[38;5;241m.\u001b[39mobjective_ \u001b[38;5;129;01mis\u001b[39;00m \u001b[38;5;129;01mnot\u001b[39;00m \u001b[38;5;28;01mNone\u001b[39;00m:\n",
      "File \u001b[0;32m~/.local/lib/python3.8/site-packages/cpmpy/solvers/ortools.py:310\u001b[0m, in \u001b[0;36mCPM_ortools.__add__\u001b[0;34m(self, cpm_con)\u001b[0m\n\u001b[1;32m    307\u001b[0m \u001b[38;5;28mself\u001b[39m\u001b[38;5;241m.\u001b[39muser_vars\u001b[38;5;241m.\u001b[39mupdate(get_variables(cpm_con))\n\u001b[1;32m    309\u001b[0m \u001b[38;5;66;03m# apply transformations, then post internally\u001b[39;00m\n\u001b[0;32m--> 310\u001b[0m cpm_cons \u001b[38;5;241m=\u001b[39m only_bv_implies(\u001b[43mflatten_constraint\u001b[49m\u001b[43m(\u001b[49m\u001b[43mcpm_con\u001b[49m\u001b[43m)\u001b[49m)\n\u001b[1;32m    311\u001b[0m \u001b[38;5;28;01mfor\u001b[39;00m con \u001b[38;5;129;01min\u001b[39;00m cpm_cons:\n\u001b[1;32m    312\u001b[0m     \u001b[38;5;28mself\u001b[39m\u001b[38;5;241m.\u001b[39m_post_constraint(con)\n",
      "File \u001b[0;32m~/.local/lib/python3.8/site-packages/cpmpy/transformations/flatten_model.py:136\u001b[0m, in \u001b[0;36mflatten_constraint\u001b[0;34m(expr)\u001b[0m\n\u001b[1;32m    134\u001b[0m \u001b[38;5;66;03m# recursively flatten list of constraints\u001b[39;00m\n\u001b[1;32m    135\u001b[0m \u001b[38;5;28;01mif\u001b[39;00m is_any_list(expr):\n\u001b[0;32m--> 136\u001b[0m     flatcons \u001b[38;5;241m=\u001b[39m [flatten_constraint(e) \u001b[38;5;28;01mfor\u001b[39;00m e \u001b[38;5;129;01min\u001b[39;00m expr]\n\u001b[1;32m    137\u001b[0m     \u001b[38;5;28;01mreturn\u001b[39;00m [c \u001b[38;5;28;01mfor\u001b[39;00m con \u001b[38;5;129;01min\u001b[39;00m flatcons \u001b[38;5;28;01mfor\u001b[39;00m c \u001b[38;5;129;01min\u001b[39;00m con]\n\u001b[1;32m    138\u001b[0m \u001b[38;5;66;03m# recursively flatten top-level 'and'\u001b[39;00m\n",
      "File \u001b[0;32m~/.local/lib/python3.8/site-packages/cpmpy/transformations/flatten_model.py:136\u001b[0m, in \u001b[0;36m<listcomp>\u001b[0;34m(.0)\u001b[0m\n\u001b[1;32m    134\u001b[0m \u001b[38;5;66;03m# recursively flatten list of constraints\u001b[39;00m\n\u001b[1;32m    135\u001b[0m \u001b[38;5;28;01mif\u001b[39;00m is_any_list(expr):\n\u001b[0;32m--> 136\u001b[0m     flatcons \u001b[38;5;241m=\u001b[39m [\u001b[43mflatten_constraint\u001b[49m\u001b[43m(\u001b[49m\u001b[43me\u001b[49m\u001b[43m)\u001b[49m \u001b[38;5;28;01mfor\u001b[39;00m e \u001b[38;5;129;01min\u001b[39;00m expr]\n\u001b[1;32m    137\u001b[0m     \u001b[38;5;28;01mreturn\u001b[39;00m [c \u001b[38;5;28;01mfor\u001b[39;00m con \u001b[38;5;129;01min\u001b[39;00m flatcons \u001b[38;5;28;01mfor\u001b[39;00m c \u001b[38;5;129;01min\u001b[39;00m con]\n\u001b[1;32m    138\u001b[0m \u001b[38;5;66;03m# recursively flatten top-level 'and'\u001b[39;00m\n",
      "File \u001b[0;32m~/.local/lib/python3.8/site-packages/cpmpy/transformations/flatten_model.py:136\u001b[0m, in \u001b[0;36mflatten_constraint\u001b[0;34m(expr)\u001b[0m\n\u001b[1;32m    134\u001b[0m \u001b[38;5;66;03m# recursively flatten list of constraints\u001b[39;00m\n\u001b[1;32m    135\u001b[0m \u001b[38;5;28;01mif\u001b[39;00m is_any_list(expr):\n\u001b[0;32m--> 136\u001b[0m     flatcons \u001b[38;5;241m=\u001b[39m [flatten_constraint(e) \u001b[38;5;28;01mfor\u001b[39;00m e \u001b[38;5;129;01min\u001b[39;00m expr]\n\u001b[1;32m    137\u001b[0m     \u001b[38;5;28;01mreturn\u001b[39;00m [c \u001b[38;5;28;01mfor\u001b[39;00m con \u001b[38;5;129;01min\u001b[39;00m flatcons \u001b[38;5;28;01mfor\u001b[39;00m c \u001b[38;5;129;01min\u001b[39;00m con]\n\u001b[1;32m    138\u001b[0m \u001b[38;5;66;03m# recursively flatten top-level 'and'\u001b[39;00m\n",
      "File \u001b[0;32m~/.local/lib/python3.8/site-packages/cpmpy/transformations/flatten_model.py:136\u001b[0m, in \u001b[0;36m<listcomp>\u001b[0;34m(.0)\u001b[0m\n\u001b[1;32m    134\u001b[0m \u001b[38;5;66;03m# recursively flatten list of constraints\u001b[39;00m\n\u001b[1;32m    135\u001b[0m \u001b[38;5;28;01mif\u001b[39;00m is_any_list(expr):\n\u001b[0;32m--> 136\u001b[0m     flatcons \u001b[38;5;241m=\u001b[39m [\u001b[43mflatten_constraint\u001b[49m\u001b[43m(\u001b[49m\u001b[43me\u001b[49m\u001b[43m)\u001b[49m \u001b[38;5;28;01mfor\u001b[39;00m e \u001b[38;5;129;01min\u001b[39;00m expr]\n\u001b[1;32m    137\u001b[0m     \u001b[38;5;28;01mreturn\u001b[39;00m [c \u001b[38;5;28;01mfor\u001b[39;00m con \u001b[38;5;129;01min\u001b[39;00m flatcons \u001b[38;5;28;01mfor\u001b[39;00m c \u001b[38;5;129;01min\u001b[39;00m con]\n\u001b[1;32m    138\u001b[0m \u001b[38;5;66;03m# recursively flatten top-level 'and'\u001b[39;00m\n",
      "File \u001b[0;32m~/.local/lib/python3.8/site-packages/cpmpy/transformations/flatten_model.py:207\u001b[0m, in \u001b[0;36mflatten_constraint\u001b[0;34m(expr)\u001b[0m\n\u001b[1;32m    205\u001b[0m     (lexpr,rexpr) \u001b[38;5;241m=\u001b[39m (rexpr,lexpr)\n\u001b[1;32m    206\u001b[0m \u001b[38;5;66;03m# ensure rhs is var\u001b[39;00m\n\u001b[0;32m--> 207\u001b[0m (rvar, rcons) \u001b[38;5;241m=\u001b[39m \u001b[43mget_or_make_var\u001b[49m\u001b[43m(\u001b[49m\u001b[43mrexpr\u001b[49m\u001b[43m)\u001b[49m\n\u001b[1;32m    209\u001b[0m \u001b[38;5;66;03m# LHS: check if Boolexpr == smth:\u001b[39;00m\n\u001b[1;32m    210\u001b[0m \u001b[38;5;28;01mif\u001b[39;00m (exprname \u001b[38;5;241m==\u001b[39m \u001b[38;5;124m'\u001b[39m\u001b[38;5;124m==\u001b[39m\u001b[38;5;124m'\u001b[39m \u001b[38;5;129;01mor\u001b[39;00m exprname \u001b[38;5;241m==\u001b[39m \u001b[38;5;124m'\u001b[39m\u001b[38;5;124m!=\u001b[39m\u001b[38;5;124m'\u001b[39m) \u001b[38;5;129;01mand\u001b[39;00m lexpr\u001b[38;5;241m.\u001b[39mis_bool():\n",
      "File \u001b[0;32m~/.local/lib/python3.8/site-packages/cpmpy/transformations/flatten_model.py:315\u001b[0m, in \u001b[0;36mget_or_make_var\u001b[0;34m(expr)\u001b[0m\n\u001b[1;32m    312\u001b[0m \u001b[38;5;28;01mif\u001b[39;00m is_any_list(expr):\n\u001b[1;32m    313\u001b[0m     \u001b[38;5;28;01mraise\u001b[39;00m \u001b[38;5;167;01mException\u001b[39;00m(\u001b[38;5;124mf\u001b[39m\u001b[38;5;124m\"\u001b[39m\u001b[38;5;124mExpected single variable, not a list for: \u001b[39m\u001b[38;5;132;01m{\u001b[39;00mexpr\u001b[38;5;132;01m}\u001b[39;00m\u001b[38;5;124m\"\u001b[39m)\n\u001b[0;32m--> 315\u001b[0m \u001b[38;5;28;01mif\u001b[39;00m \u001b[43mexpr\u001b[49m\u001b[38;5;241;43m.\u001b[39;49m\u001b[43mis_bool\u001b[49m():\n\u001b[1;32m    316\u001b[0m     \u001b[38;5;66;03m# normalize expr into a boolexpr LHS, reify LHS == bvar\u001b[39;00m\n\u001b[1;32m    317\u001b[0m     (newexpr, flatcons) \u001b[38;5;241m=\u001b[39m normalized_boolexpr(expr)\n\u001b[1;32m    319\u001b[0m     bvar \u001b[38;5;241m=\u001b[39m _BoolVarImpl()\n",
      "\u001b[0;31mAttributeError\u001b[0m: 'str' object has no attribute 'is_bool'"
     ]
    }
   ],
   "source": [
    "#Modele\n",
    "\n",
    "model = Model()\n",
    "#avec N nombre de composants\n",
    "#Yv= count (X,v)\n",
    "model += [Y[i] == (X==i).sum() for i in range(0,len(Y))]\n",
    "    \n",
    "#pour tout i allant de 1 à N, Comp_OS[i]=VM_OS[X[i]]\n",
    "model += [Comp_OS[i] == VM_OS[X[i]] for i in range(0,len(Comp_OS))]\n",
    "    \n",
    "#pour tout i allant de 1 à N, Comp_Loc[i]=VM_Loc[X[i]]\n",
    "model += [Comp_Loc[i]==VM_Loc[X[i]] for i in range(0,len(Comp_Loc))]\n",
    "    \n",
    "#pour tout i allant de 1 à M, sum i=1 to n (X[i]=v)*Comp_Proc[i] <= VMPROC[v]\n",
    "model += [sum([(X[i]==v) * Comp_Proc[i]] for i in range(0, len(X))) <= VM_Proc[v] for v in range(0,len(VM_Proc))]\n",
    "    \n",
    "#pour tout v allant de 1  à M, sum i=1 to n (X[i]=v)*Comp_Mem[i] <= VMMEM[v]\n",
    "model += [sum([(X[i]==v) * Comp_Mem[i]] for i in range(0, len(X))) <= VM_Mem[v] for v in range(0,len(VM_Mem))]\n",
    "    \n",
    "model += [(Y[v] > 0) * VM_Cout[v] for v in range(0,len(VM_Cout))]\n",
    "\n",
    "\n",
    "\n",
    "model.solve()\n",
    "\n"
   ]
  },
  {
   "cell_type": "code",
   "execution_count": null,
   "id": "a15326dd",
   "metadata": {},
   "outputs": [],
   "source": []
  }
 ],
 "metadata": {
  "kernelspec": {
   "display_name": "Python 3 (ipykernel)",
   "language": "python",
   "name": "python3"
  },
  "language_info": {
   "codemirror_mode": {
    "name": "ipython",
    "version": 3
   },
   "file_extension": ".py",
   "mimetype": "text/x-python",
   "name": "python",
   "nbconvert_exporter": "python",
   "pygments_lexer": "ipython3",
   "version": "3.8.10"
  }
 },
 "nbformat": 4,
 "nbformat_minor": 5
}
